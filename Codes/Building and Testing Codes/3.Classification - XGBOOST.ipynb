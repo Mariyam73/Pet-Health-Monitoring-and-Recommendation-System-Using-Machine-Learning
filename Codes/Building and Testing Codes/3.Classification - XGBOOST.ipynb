{
 "cells": [
  {
   "cell_type": "code",
   "execution_count": null,
   "metadata": {
    "colab": {
     "base_uri": "https://localhost:8080/"
    },
    "id": "ufRnUWYmqFPP",
    "outputId": "02f30eaf-8c9a-465c-9674-2dbbf6a35404"
   },
   "outputs": [],
   "source": [
    "from google.colab import drive\n",
    "drive.mount('/content/drive')"
   ]
  },
  {
   "cell_type": "code",
   "execution_count": null,
   "metadata": {
    "colab": {
     "base_uri": "https://localhost:8080/"
    },
    "id": "8tvGMp8NqVSd",
    "outputId": "2003fbff-4160-4dfc-de3f-b2a1592c4180"
   },
   "outputs": [],
   "source": [
    "ls"
   ]
  },
  {
   "cell_type": "code",
   "execution_count": null,
   "metadata": {
    "colab": {
     "base_uri": "https://localhost:8080/"
    },
    "id": "PvIosBOAqe8T",
    "outputId": "da3dee44-f9ce-4dc0-9288-881e49562cf4"
   },
   "outputs": [],
   "source": [
    "cd 'drive/MyDrive'"
   ]
  },
  {
   "cell_type": "code",
   "execution_count": null,
   "metadata": {
    "id": "R2hAEBtvqkRZ"
   },
   "outputs": [],
   "source": [
    "import pandas as pd\n",
    "import numpy as np"
   ]
  },
  {
   "cell_type": "code",
   "execution_count": null,
   "metadata": {
    "id": "PIOgHfiYqpUL"
   },
   "outputs": [],
   "source": [
    "df = pd.read_csv('synthetic_dog_breed_health_data.csv', index_col=0)"
   ]
  },
  {
   "cell_type": "code",
   "execution_count": null,
   "metadata": {
    "colab": {
     "base_uri": "https://localhost:8080/"
    },
    "id": "Ps0NcbqGqrTy",
    "outputId": "ace33bd7-3873-4029-8baf-36617f143f8f"
   },
   "outputs": [],
   "source": [
    "# Display basic info and the first few rows\n",
    "df_info = df.info()\n",
    "df_head = df.head()\n",
    "\n",
    "df_info, df_head"
   ]
  },
  {
   "cell_type": "code",
   "execution_count": null,
   "metadata": {
    "id": "A1IHycGkqtNq"
   },
   "outputs": [],
   "source": [
    "# Drop the ID column as it is not useful for prediction\n",
    "df_clean = df.drop(columns=[\"Synthetic\", \"Food Brand\"])"
   ]
  },
  {
   "cell_type": "code",
   "execution_count": null,
   "metadata": {
    "colab": {
     "base_uri": "https://localhost:8080/",
     "height": 649
    },
    "id": "RACWNvH7qwtQ",
    "outputId": "dbb4f448-10e0-43f8-aa8c-76f92404ba46"
   },
   "outputs": [],
   "source": [
    "df_clean.isnull().sum()"
   ]
  },
  {
   "cell_type": "code",
   "execution_count": null,
   "metadata": {
    "id": "su4aNqLMqyiw"
   },
   "outputs": [],
   "source": [
    "# Drop rows with missing target value\n",
    "df_clean = df_clean.dropna(subset=[\"Healthy\"])"
   ]
  },
  {
   "cell_type": "code",
   "execution_count": null,
   "metadata": {
    "id": "_dd4apvKq0uP"
   },
   "outputs": [],
   "source": [
    "# Convert target to binary 0/1\n",
    "df_clean[\"Healthy\"] = df_clean[\"Healthy\"].map({\"Yes\": 1, \"No\": 0})"
   ]
  },
  {
   "cell_type": "code",
   "execution_count": null,
   "metadata": {
    "colab": {
     "base_uri": "https://localhost:8080/"
    },
    "id": "yAvmg2dfq3OQ",
    "outputId": "c75af55f-84d5-4322-b612-10d29a8352e9"
   },
   "outputs": [],
   "source": [
    "from sklearn.preprocessing import LabelEncoder\n",
    "import numpy as np\n",
    "\n",
    "# Identify categorical and numerical features\n",
    "categorical_cols = df_clean.select_dtypes(include=[\"object\"]).columns.tolist()\n",
    "\n",
    "numerical_cols = df_clean.select_dtypes(include=[\"float64\", \"int64\"]).columns.tolist()\n",
    "\n",
    "# Fill missing numerical values with median\n",
    "for col in numerical_cols:\n",
    "    df_clean[col].fillna(df_clean[col].median(), inplace=True)\n",
    "\n",
    "# Fill missing categorical values with mode\n",
    "for col in categorical_cols:\n",
    "    df_clean[col].fillna(df_clean[col].mode()[0], inplace=True)\n",
    "\n",
    "# Encode categorical features using LabelEncoder\n",
    "label_encoders = {}\n",
    "for col in categorical_cols:\n",
    "    le = LabelEncoder()\n",
    "    df_clean[col] = le.fit_transform(df_clean[col])\n",
    "    label_encoders[col] = le\n",
    "\n",
    "# Final check on cleaned data\n",
    "df_clean.info(), df_clean.head()"
   ]
  },
  {
   "cell_type": "code",
   "execution_count": null,
   "metadata": {
    "colab": {
     "base_uri": "https://localhost:8080/",
     "height": 649
    },
    "id": "XPUzfzd4q5kY",
    "outputId": "69dd5482-4f52-4df1-af36-b0c74db8e17a"
   },
   "outputs": [],
   "source": [
    "df_clean.isnull().sum()"
   ]
  },
  {
   "cell_type": "code",
   "execution_count": null,
   "metadata": {
    "colab": {
     "base_uri": "https://localhost:8080/",
     "height": 1000
    },
    "id": "cglVqitKq8N5",
    "outputId": "3882c22c-cbbf-456d-9071-89a48d8e7874"
   },
   "outputs": [],
   "source": [
    "import matplotlib.pyplot as plt\n",
    "import seaborn as sns\n",
    "\n",
    "# Check label distribution\n",
    "label_distribution = df_clean['Healthy'].value_counts(normalize=True)\n",
    "\n",
    "# Plot label distribution\n",
    "plt.figure(figsize=(6, 4))\n",
    "sns.countplot(x='Healthy', data=df_clean)\n",
    "plt.title('Health Label Distribution')\n",
    "plt.xticks([0, 1], ['Not Healthy (0)', 'Healthy (1)'])\n",
    "plt.ylabel('Count')\n",
    "plt.xlabel('Health Status')\n",
    "plt.tight_layout()\n",
    "plt.show()\n",
    "\n",
    "# Summary stats for numeric columns\n",
    "numeric_summary = df_clean[numerical_cols].describe()\n",
    "\n",
    "# Plot distributions for numeric columns\n",
    "for col in numerical_cols:\n",
    "    plt.figure(figsize=(6, 4))\n",
    "    sns.histplot(df_clean[col], bins=30, kde=True)\n",
    "    plt.title(f'Distribution of {col}')\n",
    "    plt.xlabel(col)\n",
    "    plt.tight_layout()\n",
    "    plt.show()\n",
    "\n",
    "# Box plots for outlier detection\n",
    "for col in numerical_cols:\n",
    "    plt.figure(figsize=(6, 4))\n",
    "    sns.boxplot(x=df_clean[col])\n",
    "    plt.title(f'Boxplot of {col}')\n",
    "    plt.tight_layout()\n",
    "    plt.show()\n",
    "\n",
    "numeric_summary"
   ]
  },
  {
   "cell_type": "code",
   "execution_count": null,
   "metadata": {
    "colab": {
     "base_uri": "https://localhost:8080/"
    },
    "id": "KXNwXwSvq-xn",
    "outputId": "18b0426d-59fc-4bd8-fede-df685e7fa4a5"
   },
   "outputs": [],
   "source": [
    "# Remove Outliers\n",
    "\n",
    "# Use IQR method to detect and remove outliers in Weight (lbs)\n",
    "Q1 = df_clean[\"Weight (lbs)\"].quantile(0.25)\n",
    "Q3 = df_clean[\"Weight (lbs)\"].quantile(0.75)\n",
    "IQR = Q3 - Q1\n",
    "\n",
    "# Define outlier bounds\n",
    "lower_bound = Q1 - 1.5 * IQR\n",
    "upper_bound = Q3 + 1.5 * IQR\n",
    "\n",
    "# Filter out outliers\n",
    "df_no_outliers = df_clean[(df_clean[\"Weight (lbs)\"] >= lower_bound) & (df_clean[\"Weight (lbs)\"] <= upper_bound)]\n",
    "\n",
    "# Compare original vs filtered\n",
    "original_count = df_clean.shape[0]\n",
    "filtered_count = df_no_outliers.shape[0]\n",
    "\n",
    "original_count, filtered_count"
   ]
  },
  {
   "cell_type": "code",
   "execution_count": null,
   "metadata": {
    "colab": {
     "base_uri": "https://localhost:8080/",
     "height": 1000
    },
    "id": "2WVw5W6yrDCO",
    "outputId": "71ea37ae-a969-4ae3-8c7e-ea283b689fd8"
   },
   "outputs": [],
   "source": [
    "from xgboost import XGBClassifier\n",
    "from lightgbm import LGBMClassifier\n",
    "from catboost import CatBoostClassifier\n",
    "from sklearn.metrics import classification_report, confusion_matrix\n",
    "from imblearn.over_sampling import RandomOverSampler\n",
    "from sklearn.model_selection import train_test_split\n",
    "import pandas as pd\n",
    "\n",
    "# Load and preprocess your data (assuming df_clean is ready)\n",
    "X = df_no_outliers.drop(columns=[\"Healthy\"])\n",
    "y = df_no_outliers[\"Healthy\"]\n",
    "\n",
    "# Train/test split\n",
    "X_train, X_test, y_train, y_test = train_test_split(X, y, stratify=y, random_state=42)\n",
    "\n",
    "# Oversample\n",
    "ros = RandomOverSampler(random_state=42)\n",
    "X_train_ros, y_train_ros = ros.fit_resample(X_train, y_train)\n",
    "\n",
    "# Models to evaluate\n",
    "models = {\n",
    "    \"XGBoost\": XGBClassifier(use_label_encoder=False, eval_metric='logloss'),\n",
    "    \"LightGBM\": LGBMClassifier(),\n",
    "    \"CatBoost\": CatBoostClassifier(verbose=0)\n",
    "}\n",
    "\n",
    "# Evaluate\n",
    "for name, model in models.items():\n",
    "    model.fit(X_train_ros, y_train_ros)\n",
    "    y_pred = model.predict(X_test)\n",
    "\n",
    "    print(f\"\\n{name} Classification Report:\")\n",
    "    print(classification_report(y_test, y_pred, target_names=[\"Not Healthy\", \"Healthy\"]))\n",
    "\n",
    "    # Confusion Matrix\n",
    "    cm = confusion_matrix(y_test, y_pred)\n",
    "    plt.figure(figsize=(5, 4))\n",
    "    sns.heatmap(cm, annot=True, fmt='d', cmap=\"Blues\", xticklabels=[\"Not Healthy\", \"Healthy\"], yticklabels=[\"Not Healthy\", \"Healthy\"])\n",
    "    plt.title(f\"Confusion Matrix: {name}\")\n",
    "    plt.xlabel(\"Predicted\")\n",
    "    plt.ylabel(\"Actual\")\n",
    "    plt.tight_layout()\n",
    "    plt.show()\n",
    "\n",
    "    # Predict on X_train to compare train vs test\n",
    "    y_train_pred = model.predict(X_train_ros)\n",
    "    print(\"Train Accuracy:\", accuracy_score(y_train_ros, y_train_pred))\n",
    "    print(\"Train F1:\", f1_score(y_train_ros, y_train_pred))\n",
    "\n",
    "    print(\"-----------------------------------------------------------------\\n\")"
   ]
  },
  {
   "cell_type": "code",
   "execution_count": null,
   "metadata": {
    "colab": {
     "base_uri": "https://localhost:8080/",
     "height": 1000
    },
    "id": "hnGrvYQXr2jh",
    "outputId": "e454682f-07f4-45e8-c098-e23857b6c659"
   },
   "outputs": [],
   "source": [
    "from imblearn.over_sampling import SMOTE\n",
    "from sklearn.metrics import accuracy_score, f1_score\n",
    "\n",
    "\n",
    "sm = SMOTE(random_state=42)\n",
    "X_train_sm, y_train_sm = sm.fit_resample(X_train, y_train)\n",
    "\n",
    "# --- Define Models ---\n",
    "models = {\n",
    "    \"XGBoost\": XGBClassifier(use_label_encoder=False, eval_metric='logloss'),\n",
    "    \"LightGBM\": LGBMClassifier(),\n",
    "    \"CatBoost\": CatBoostClassifier(verbose=0)\n",
    "}\n",
    "\n",
    "# --- Train & Evaluate with Confusion Matrix Plots ---\n",
    "for name, model in models.items():\n",
    "    print(f\"\\n🔍 Evaluating: {name}\")\n",
    "    model.fit(X_train_sm, y_train_sm)\n",
    "    y_pred = model.predict(X_test)\n",
    "\n",
    "    # Classification report\n",
    "    print(f\"\\n{name} Classification Report:\")\n",
    "    print(classification_report(y_test, y_pred, target_names=[\"Not Healthy\", \"Healthy\"]))\n",
    "\n",
    "    # Confusion Matrix\n",
    "    cm = confusion_matrix(y_test, y_pred)\n",
    "    plt.figure(figsize=(5, 4))\n",
    "    sns.heatmap(cm, annot=True, fmt='d', cmap=\"Blues\", xticklabels=[\"Not Healthy\", \"Healthy\"], yticklabels=[\"Not Healthy\", \"Healthy\"])\n",
    "    plt.title(f\"Confusion Matrix: {name}\")\n",
    "    plt.xlabel(\"Predicted\")\n",
    "    plt.ylabel(\"Actual\")\n",
    "    plt.tight_layout()\n",
    "    plt.show()\n",
    "\n",
    "    # Predict on X_train to compare train vs test\n",
    "    y_train_pred = model.predict(X_train_sm)\n",
    "    print(\"Train Accuracy:\", accuracy_score(y_train_sm, y_train_pred))\n",
    "    print(\"Train F1:\", f1_score(y_train_sm, y_train_pred))\n",
    "\n",
    "    print(\"-----------------------------------------------------------------\\n\")"
   ]
  },
  {
   "cell_type": "code",
   "execution_count": null,
   "metadata": {
    "id": "qXvkCJl1v1Zw"
   },
   "outputs": [],
   "source": []
  }
 ],
 "metadata": {
  "colab": {
   "provenance": []
  },
  "kernelspec": {
   "display_name": "Python 3 (ipykernel)",
   "language": "python",
   "name": "python3"
  },
  "language_info": {
   "codemirror_mode": {
    "name": "ipython",
    "version": 3
   },
   "file_extension": ".py",
   "mimetype": "text/x-python",
   "name": "python",
   "nbconvert_exporter": "python",
   "pygments_lexer": "ipython3",
   "version": "3.11.6"
  }
 },
 "nbformat": 4,
 "nbformat_minor": 4
}
