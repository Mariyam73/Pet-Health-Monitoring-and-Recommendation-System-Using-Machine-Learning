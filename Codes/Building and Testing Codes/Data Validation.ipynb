{
 "cells": [
  {
   "cell_type": "code",
   "execution_count": null,
   "id": "69d8b5b1-cbad-4990-b696-c219dd3b3d6d",
   "metadata": {},
   "outputs": [],
   "source": [
    "import pandas as pd\n",
    "\n",
    "# Load your dataset\n",
    "df = pd.read_csv('../Data/synthetic_dog_breed_health_data.csv', index_col=0)"
   ]
  },
  {
   "cell_type": "code",
   "execution_count": null,
   "id": "2922e87d-98b3-4c7a-8223-8f4cc1664c43",
   "metadata": {},
   "outputs": [],
   "source": [
    "# 1. Distribution Check for Numerical Columns\n",
    "numerical_cols = [\"Age\", \"Weight (lbs)\", \"Daily Walk Distance (miles)\", \"Hours of Sleep\"]\n",
    "print(df[numerical_cols].describe())  # Summary stats for range and plausibility"
   ]
  },
  {
   "cell_type": "code",
   "execution_count": null,
   "id": "09e5e3a5-7632-4ed7-b0c6-893505af5bbe",
   "metadata": {},
   "outputs": [],
   "source": [
    "# 2. Logic Check: Cross-feature consistency\n",
    "# Do more active pets walk more?\n",
    "activity_vs_walk = df.groupby(\"Daily Activity Level\")[\"Daily Walk Distance (miles)\"].mean()\n",
    "print(activity_vs_walk)"
   ]
  },
  {
   "cell_type": "code",
   "execution_count": null,
   "id": "a10bf5eb-92a8-43c2-b50b-3cb24de77c59",
   "metadata": {},
   "outputs": [],
   "source": [
    "# 3. Class Balance for Target Variable\n",
    "label_distribution = df[\"Healthy\"].value_counts(normalize=True)\n",
    "print(\"Label Distribution (%):\\n\", label_distribution * 100)"
   ]
  },
  {
   "cell_type": "code",
   "execution_count": null,
   "id": "7c841753-98ae-4845-a370-6b3a38244a67",
   "metadata": {},
   "outputs": [],
   "source": [
    "# 4. Categorical Feature Diversity\n",
    "categorical_cols = [\"Breed\", \"Diet\", \"Spay/Neuter Status\"]\n",
    "for col in categorical_cols:\n",
    "    print(f\"{col} has {df[col].nunique()} unique values.\")"
   ]
  },
  {
   "cell_type": "code",
   "execution_count": null,
   "id": "10397032-06ae-4275-a893-e371b07655c0",
   "metadata": {},
   "outputs": [],
   "source": []
  }
 ],
 "metadata": {
  "kernelspec": {
   "display_name": "Python 3 (ipykernel)",
   "language": "python",
   "name": "python3"
  },
  "language_info": {
   "codemirror_mode": {
    "name": "ipython",
    "version": 3
   },
   "file_extension": ".py",
   "mimetype": "text/x-python",
   "name": "python",
   "nbconvert_exporter": "python",
   "pygments_lexer": "ipython3",
   "version": "3.11.6"
  }
 },
 "nbformat": 4,
 "nbformat_minor": 5
}
