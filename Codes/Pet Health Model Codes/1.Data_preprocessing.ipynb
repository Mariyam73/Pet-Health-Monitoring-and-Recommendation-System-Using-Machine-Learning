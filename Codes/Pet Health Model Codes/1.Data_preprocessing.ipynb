{
 "cells": [
  {
   "cell_type": "code",
   "execution_count": null,
   "id": "eb9a290f",
   "metadata": {},
   "outputs": [],
   "source": [
    "# Imports\n",
    "\n",
    "import pandas as pd\n",
    "import numpy as np\n",
    "from sklearn.preprocessing import LabelEncoder\n",
    "import matplotlib.pyplot as plt\n",
    "import seaborn as sns"
   ]
  },
  {
   "cell_type": "code",
   "execution_count": null,
   "id": "8521bc3a",
   "metadata": {},
   "outputs": [],
   "source": [
    "df = pd.read_csv('../Data/synthetic_dog_breed_health_data.csv', index_col=0)"
   ]
  },
  {
   "cell_type": "code",
   "execution_count": null,
   "id": "d186617f-e72a-420e-a3fe-4ae27067a6ea",
   "metadata": {},
   "outputs": [],
   "source": [
    "df.info()"
   ]
  },
  {
   "cell_type": "code",
   "execution_count": null,
   "id": "51726247-2758-4761-a5b6-386bc267d46c",
   "metadata": {},
   "outputs": [],
   "source": [
    "df.head(10)"
   ]
  },
  {
   "cell_type": "markdown",
   "id": "ce4355d3-ee12-4159-bdaf-3349e87721be",
   "metadata": {},
   "source": [
    "#### 1. --- UNIQUE VALUES"
   ]
  },
  {
   "cell_type": "code",
   "execution_count": null,
   "id": "e33a3f59-2f74-4f69-8c2e-97c82fd38e1b",
   "metadata": {},
   "outputs": [],
   "source": [
    "for col in df.columns:\n",
    "    print(f\"Unique values in column '{col}':\")\n",
    "    print(df[col].unique())\n",
    "    print()"
   ]
  },
  {
   "cell_type": "markdown",
   "id": "982d40b5-61d7-4a8c-885c-0ede25ec232b",
   "metadata": {},
   "source": [
    "#### 2. DROP UNWANTED COLUMNS"
   ]
  },
  {
   "cell_type": "code",
   "execution_count": null,
   "id": "10d383a4-f413-47d5-9b2f-a5b37159ff9c",
   "metadata": {},
   "outputs": [],
   "source": [
    "# Drop the columns as it is not useful for prediction\n",
    "df_clean = df.drop(columns=[\"Synthetic\", \"Food Brand\"])"
   ]
  },
  {
   "cell_type": "markdown",
   "id": "b377b253-dd1a-4ff4-bd4c-c46723b867b7",
   "metadata": {},
   "source": [
    "#### 3. REMOVE NULL TARGETS AND LABEL MAP"
   ]
  },
  {
   "cell_type": "code",
   "execution_count": null,
   "id": "cc800142-7e68-4af6-b680-0c407190131f",
   "metadata": {},
   "outputs": [],
   "source": [
    "# Drop rows with missing target value\n",
    "df_clean = df_clean.dropna(subset=[\"Healthy\"])"
   ]
  },
  {
   "cell_type": "code",
   "execution_count": null,
   "id": "50ab0969-be95-4dd6-9bb9-29636722ddd1",
   "metadata": {},
   "outputs": [],
   "source": [
    "# Convert target to binary 0/1\n",
    "df_clean[\"Healthy\"] = df_clean[\"Healthy\"].map({\"Yes\": 1, \"No\": 0})"
   ]
  },
  {
   "cell_type": "markdown",
   "id": "63a8b6a4-9c4d-45a0-a2fd-935abe2c451c",
   "metadata": {},
   "source": [
    "#### 4. NULL VALUE TREATMENT"
   ]
  },
  {
   "cell_type": "code",
   "execution_count": null,
   "id": "108154be-c39a-40ca-9c4b-ce6ae0c1e1f5",
   "metadata": {},
   "outputs": [],
   "source": [
    "df_clean.isnull().sum()"
   ]
  },
  {
   "cell_type": "code",
   "execution_count": null,
   "id": "3312a433-6329-4f90-a032-b855b335ba5b",
   "metadata": {},
   "outputs": [],
   "source": [
    "# Identify categorical and numerical features\n",
    "categorical_cols = df_clean.select_dtypes(include=[\"object\"]).columns.tolist()\n",
    "\n",
    "numerical_cols = df_clean.select_dtypes(include=[\"float64\", \"int64\"]).columns.tolist()\n",
    "\n",
    "# Fill missing numerical values with median\n",
    "for col in numerical_cols:\n",
    "    df_clean[col].fillna(df_clean[col].median(), inplace=True)\n",
    "\n",
    "# Fill missing categorical values with mode\n",
    "for col in categorical_cols:\n",
    "    df_clean[col].fillna(df_clean[col].mode()[0], inplace=True)"
   ]
  },
  {
   "cell_type": "code",
   "execution_count": null,
   "id": "530caa9e-df60-4fd1-b1e6-b7243c28e20d",
   "metadata": {},
   "outputs": [],
   "source": [
    "df_clean.isnull().sum()"
   ]
  },
  {
   "cell_type": "markdown",
   "id": "531f3d37-972f-463a-a221-f5947055c60d",
   "metadata": {},
   "source": [
    "#### 5. LABEL ENCODING"
   ]
  },
  {
   "cell_type": "code",
   "execution_count": null,
   "id": "6e029d01-e8ac-4f43-8271-1e2d48e002eb",
   "metadata": {},
   "outputs": [],
   "source": [
    "# Encode categorical features using LabelEncoder\n",
    "label_encoders = {}\n",
    "for col in categorical_cols:\n",
    "    le = LabelEncoder()\n",
    "    df_clean[col] = le.fit_transform(df_clean[col])\n",
    "    label_encoders[col] = le"
   ]
  },
  {
   "cell_type": "code",
   "execution_count": null,
   "id": "95dd9c77-3eec-48d3-bfe4-c914ad2d7c32",
   "metadata": {},
   "outputs": [],
   "source": [
    "# Final check on cleaned data\n",
    "df_clean.info(), df_clean.head(10)"
   ]
  },
  {
   "cell_type": "markdown",
   "id": "2772cc04-d897-4712-a3ef-8bf5e4c01974",
   "metadata": {},
   "source": [
    "#### 6. CHECK DISTIRBUTIONS AND OUTLIERS"
   ]
  },
  {
   "cell_type": "code",
   "execution_count": null,
   "id": "518d379e-a3f3-4aa6-88d4-62b1e347f4e4",
   "metadata": {},
   "outputs": [],
   "source": [
    "# Check label distribution\n",
    "label_distribution = df_clean['Healthy'].value_counts(normalize=True)\n",
    "\n",
    "# Plot label distribution\n",
    "plt.figure(figsize=(6, 4))\n",
    "sns.countplot(x='Healthy', data=df_clean)\n",
    "plt.title('Health Label Distribution')\n",
    "plt.xticks([0, 1], ['Not Healthy (0)', 'Healthy (1)'])\n",
    "plt.ylabel('Count')\n",
    "plt.xlabel('Health Status')\n",
    "plt.tight_layout()\n",
    "plt.show()\n",
    "\n",
    "# Summary stats for numeric columns\n",
    "numeric_summary = df_clean[numerical_cols].describe()\n",
    "\n",
    "# Plot distributions for numeric columns\n",
    "for col in numerical_cols:\n",
    "    plt.figure(figsize=(6, 4))\n",
    "    sns.histplot(df_clean[col], bins=30, kde=True)\n",
    "    plt.title(f'Distribution of {col}')\n",
    "    plt.xlabel(col)\n",
    "    plt.tight_layout()\n",
    "    plt.show()\n",
    "\n",
    "# Box plots for outlier detection\n",
    "for col in numerical_cols:\n",
    "    plt.figure(figsize=(6, 4))\n",
    "    sns.boxplot(x=df_clean[col])\n",
    "    plt.title(f'Boxplot of {col}')\n",
    "    plt.tight_layout()\n",
    "    plt.show()\n",
    "\n",
    "numeric_summary"
   ]
  },
  {
   "cell_type": "code",
   "execution_count": null,
   "id": "46869a96-35c8-4a79-a1d6-cac41aa2c7bf",
   "metadata": {},
   "outputs": [],
   "source": [
    "# Remove Outliers\n",
    "\n",
    "# Use IQR method to detect and remove outliers in Weight (lbs)\n",
    "Q1 = df_clean[\"Weight (lbs)\"].quantile(0.25)\n",
    "Q3 = df_clean[\"Weight (lbs)\"].quantile(0.75)\n",
    "IQR = Q3 - Q1\n",
    "\n",
    "# Define outlier bounds\n",
    "lower_bound = Q1 - 1.5 * IQR\n",
    "upper_bound = Q3 + 1.5 * IQR\n",
    "\n",
    "# Filter out outliers\n",
    "df_no_outliers = df_clean[(df_clean[\"Weight (lbs)\"] >= lower_bound) & (df_clean[\"Weight (lbs)\"] <= upper_bound)]\n",
    "\n",
    "# Compare original vs filtered\n",
    "original_count = df_clean.shape[0]\n",
    "filtered_count = df_no_outliers.shape[0]\n",
    "\n",
    "original_count, filtered_count"
   ]
  },
  {
   "cell_type": "code",
   "execution_count": null,
   "id": "4d8eeb2f-f616-4d32-8447-cd875458972d",
   "metadata": {},
   "outputs": [],
   "source": [
    "df_no_outliers.head(10)"
   ]
  },
  {
   "cell_type": "code",
   "execution_count": null,
   "id": "1ffbbf5f-2dff-4af9-9165-c288ead55ca6",
   "metadata": {},
   "outputs": [],
   "source": [
    "df_no_outliers.to_csv('../Data/Dog_Health_Preprocessed.csv')"
   ]
  },
  {
   "cell_type": "code",
   "execution_count": null,
   "id": "6e695d3a-71a4-4917-9054-bad47f0c09ec",
   "metadata": {},
   "outputs": [],
   "source": []
  }
 ],
 "metadata": {
  "kernelspec": {
   "display_name": "Python 3 (ipykernel)",
   "language": "python",
   "name": "python3"
  },
  "language_info": {
   "codemirror_mode": {
    "name": "ipython",
    "version": 3
   },
   "file_extension": ".py",
   "mimetype": "text/x-python",
   "name": "python",
   "nbconvert_exporter": "python",
   "pygments_lexer": "ipython3",
   "version": "3.11.6"
  }
 },
 "nbformat": 4,
 "nbformat_minor": 5
}
