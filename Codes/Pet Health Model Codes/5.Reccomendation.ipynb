{
 "cells": [
  {
   "cell_type": "code",
   "execution_count": null,
   "id": "c4ccab11-676a-48ed-939c-bfeaf04c66b0",
   "metadata": {},
   "outputs": [],
   "source": [
    "# IMPORTS\n",
    "\n",
    "import pandas as pd\n",
    "import numpy as np\n",
    "from sklearn.preprocessing import LabelEncoder\n",
    "import matplotlib.pyplot as plt\n",
    "import seaborn as sns\n",
    "from sklearn.utils import resample\n",
    "from sklearn.metrics import classification_report, confusion_matrix, ConfusionMatrixDisplay\n",
    "from sklearn.model_selection import train_test_split\n",
    "from sklearn.metrics import accuracy_score, precision_score, recall_score, f1_score\n",
    "from imblearn.over_sampling import SMOTE\n",
    "from sklearn.cluster import KMeans\n",
    "from sklearn.preprocessing import StandardScaler\n",
    "from sklearn.decomposition import PCA\n",
    "from sklearn.metrics import silhouette_score, davies_bouldin_score, calinski_harabasz_score"
   ]
  },
  {
   "cell_type": "code",
   "execution_count": null,
   "id": "51efb7ab-a49d-4c31-9493-1fa2706445de",
   "metadata": {},
   "outputs": [],
   "source": [
    "df = pd.read_csv('../Data/Dog_Health_Preprocessed.csv', index_col=0)"
   ]
  },
  {
   "cell_type": "code",
   "execution_count": null,
   "id": "576822a5-f7e7-45e6-abed-bc72a86ebe3d",
   "metadata": {},
   "outputs": [],
   "source": [
    "df.head(10)"
   ]
  },
  {
   "cell_type": "markdown",
   "id": "ab1d0324-2211-4be8-bb94-3c77823a2a9a",
   "metadata": {},
   "source": [
    "# CLUSTER BASED ON SIMILAR FEATURES"
   ]
  },
  {
   "cell_type": "markdown",
   "id": "4ed9a3d6-0ddc-4a67-942d-b339321fdbb2",
   "metadata": {},
   "source": [
    "--- SAMPLING --"
   ]
  },
  {
   "cell_type": "code",
   "execution_count": null,
   "id": "8a2cf049-9239-4da0-9368-3cb667e8c1bb",
   "metadata": {},
   "outputs": [],
   "source": [
    "# Separate majority and minority classes\n",
    "df_majority = df[df[\"Healthy\"] == 1]\n",
    "df_minority = df[df[\"Healthy\"] == 0]\n",
    "\n",
    "# Strategy: downsample majority, upsample minority to match the same size (2500 <-> 2500)\n",
    "majority_downsampled = resample(df_majority,\n",
    "                                replace=False,\n",
    "                                n_samples=2500,\n",
    "                                random_state=42)\n",
    "\n",
    "minority_upsampled = resample(df_minority,\n",
    "                              replace=True,\n",
    "                              n_samples=2500,\n",
    "                              random_state=42)\n",
    "\n",
    "# Combine the two to get a balanced dataset\n",
    "df_balanced = pd.concat([majority_downsampled, minority_upsampled])\n",
    "\n",
    "# Shuffle the combined dataset\n",
    "df_balanced = df_balanced.sample(frac=1, random_state=42).reset_index(drop=True)"
   ]
  },
  {
   "cell_type": "code",
   "execution_count": null,
   "id": "984c5f31-ba6e-4528-a4f5-014f9e46403e",
   "metadata": {},
   "outputs": [],
   "source": [
    "# Prepare features for clustering (exclude target)\n",
    "X_features = df_balanced.drop(columns=[\"Healthy\"])\n",
    "\n",
    "# Standardize the features\n",
    "scaler = StandardScaler()\n",
    "X_scaled = scaler.fit_transform(X_features)\n",
    "\n",
    "# Elbow method\n",
    "inertia_values = []\n",
    "k_values = range(1, 11)\n",
    "\n",
    "for k in k_values:\n",
    "    kmeans_test = KMeans(n_clusters=k, random_state=42)\n",
    "    kmeans_test.fit(X_scaled)\n",
    "    inertia_values.append(kmeans_test.inertia_)\n",
    "\n",
    "# Plot elbow curve\n",
    "plt.figure(figsize=(8, 5))\n",
    "plt.plot(k_values, inertia_values, marker='o')\n",
    "plt.title(\"Elbow Method for Optimal K\")\n",
    "plt.xlabel(\"Number of Clusters (K)\")\n",
    "plt.ylabel(\"Inertia\")\n",
    "plt.xticks(k_values)\n",
    "plt.grid(True)\n",
    "plt.tight_layout()\n",
    "plt.show()"
   ]
  },
  {
   "cell_type": "code",
   "execution_count": null,
   "id": "7badc41d-5072-48c4-b323-842b7cf84096",
   "metadata": {},
   "outputs": [],
   "source": [
    "# Apply KMeans clustering\n",
    "kmeans = KMeans(n_clusters=3, random_state=42)\n",
    "cluster_labels = kmeans.fit_predict(X_scaled)\n",
    "\n",
    "# Add cluster labels to the dataframe\n",
    "df_balanced[\"Cluster\"] = cluster_labels\n",
    "df_balanced[\"Cluster\"].value_counts()\n",
    "\n",
    "# Evaluate clustering\n",
    "silhouette = silhouette_score(X_scaled, cluster_labels)\n",
    "davies_bouldin = davies_bouldin_score(X_scaled, cluster_labels)\n",
    "calinski_harabasz = calinski_harabasz_score(X_scaled, cluster_labels)\n",
    "\n",
    "{\n",
    "    \"Silhouette Score\": silhouette,\n",
    "    \"Davies-Bouldin Index\": davies_bouldin,\n",
    "    \"Calinski-Harabasz Score\": calinski_harabasz\n",
    "}"
   ]
  },
  {
   "cell_type": "code",
   "execution_count": null,
   "id": "296759b7-1762-48c4-8613-29309755a6a7",
   "metadata": {},
   "outputs": [],
   "source": [
    "# PCA for 2D visualization\n",
    "pca = PCA(n_components=2)\n",
    "X_pca = pca.fit_transform(X_scaled)\n",
    "\n",
    "# Plot\n",
    "plt.figure(figsize=(8, 6))\n",
    "scatter = plt.scatter(X_pca[:, 0], X_pca[:, 1], c=cluster_labels, cmap='tab10', alpha=0.6)\n",
    "plt.title(\"PCA Projection of Pet Clusters\")\n",
    "plt.xlabel(\"Principal Component 1\")\n",
    "plt.ylabel(\"Principal Component 2\")\n",
    "plt.legend(*scatter.legend_elements(), title=\"Cluster\")\n",
    "plt.grid(True)\n",
    "plt.tight_layout()\n",
    "plt.show()"
   ]
  },
  {
   "cell_type": "markdown",
   "id": "17b4e915-ff3e-469b-a90e-0133f4db02ac",
   "metadata": {},
   "source": [
    "# -- CLUSTER PREDICTION"
   ]
  },
  {
   "cell_type": "code",
   "execution_count": null,
   "id": "98f94b5e-56e4-44b3-8621-f2f229cf1ad6",
   "metadata": {},
   "outputs": [],
   "source": [
    "# Group by cluster and calculate summaries\n",
    "cluster_summary = df_balanced.groupby(\"Cluster\").mean()\n",
    "cluster_mode = df_balanced.groupby(\"Cluster\").agg(lambda x: x.mode().iloc[0])\n",
    "\n",
    "cluster_summary, cluster_mode"
   ]
  },
  {
   "cell_type": "markdown",
   "id": "91eb5e2e-5dc1-4830-a564-d403dc993aca",
   "metadata": {},
   "source": [
    "# CONTENT BASED RECOMMENDER"
   ]
  },
  {
   "cell_type": "code",
   "execution_count": null,
   "id": "cf1a8f18-1c54-487a-aa7d-c054c06c7aea",
   "metadata": {},
   "outputs": [],
   "source": [
    "# Define updated cluster-based recommendations\n",
    "recommendations = {\n",
    "    0: [\n",
    "        \"Establish a structured routine to reduce stress and maintain consistency.\",\n",
    "        \"Provide a calm, quiet space for restful sleep (at least 11 hours/day).\",\n",
    "        \"Use moderate, low-impact exercise daily (e.g., 2 x 15-20 min walks).\",\n",
    "        \"Maintain a steady, high-quality diet; consider MCT or omega-3 enriched food.\",\n",
    "        \"Introduce omega-3 fatty acids (e.g., fish oil) to support brain and joint health.\",\n",
    "        \"Consult vet for seizure logs and schedule semi-annual health checks.\",\n",
    "        \"Avoid high-sodium treats if on potassium bromide medication.\"\n",
    "    ],\n",
    "    1: [\n",
    "        \"Ensure daily physical activity (~30-45 min); include walks, fetch, or swimming.\",\n",
    "        \"Feed a controlled, nutritious diet with limited treats (use kibble as training rewards).\",\n",
    "        \"Use puzzle feeders or slow-feed bowls to provide mental stimulation during meals.\",\n",
    "        \"Provide joint support supplements like glucosamine and omega-3s preventively.\",\n",
    "        \"Incorporate regular mental enrichment (training, scent games, or toy rotation).\",\n",
    "        \"Schedule annual vet exams and routine dental cleanings.\",\n",
    "        \"Monitor weight monthly and adjust feeding as needed.\"\n",
    "    ],\n",
    "    2: [\n",
    "        \"Provide 60-120 min of diverse, high-energy exercise (e.g., fetch, running, agility).\",\n",
    "        \"Use dog sports or advanced training to channel energy and avoid boredom.\",\n",
    "        \"Prevent overheating—exercise during cool hours, ensure frequent hydration breaks.\",\n",
    "        \"Feed high-protein, high-fat active/performance diets; monitor body condition.\",\n",
    "        \"Supplement with omega-3s and consider glucosamine for joint support.\",\n",
    "        \"Use paw protection and soft bedding; inspect for injuries after exercise.\",\n",
    "        \"Ensure sufficient rest and recovery time with a consistent daily routine.\"\n",
    "    ]\n",
    "}"
   ]
  },
  {
   "cell_type": "code",
   "execution_count": null,
   "id": "31d57181-66c1-4994-b638-b5b43c5a0dfc",
   "metadata": {},
   "outputs": [],
   "source": [
    "# Define the function to recommend care\n",
    "def recommend_care(pet_profile):\n",
    "    import pandas as pd\n",
    "    from sklearn.preprocessing import LabelEncoder\n",
    "\n",
    "    # Convert input profile to DataFrame\n",
    "    df = pd.DataFrame([pet_profile])\n",
    "\n",
    "    # Encode categorical columns\n",
    "    for col in df.select_dtypes(include=\"object\").columns:\n",
    "        df[col] = LabelEncoder().fit_transform(df[col])\n",
    "\n",
    "    # Scale the input\n",
    "    scaled_input = scaler.transform(df)\n",
    "\n",
    "    # Predict cluster\n",
    "    cluster = kmeans.predict(scaled_input)[0]\n",
    "\n",
    "    # Return cluster and relevant recommendations\n",
    "    return cluster, recommendations.get(cluster, [\"Consult your vet for personalized guidance.\"])\n",
    "\n"
   ]
  },
  {
   "cell_type": "code",
   "execution_count": null,
   "id": "9d2efe41-232f-4391-9909-6b6073aa04bf",
   "metadata": {},
   "outputs": [],
   "source": [
    "test_pet = {\n",
    "    \"Breed\": 8,\n",
    "    \"Breed Size\": 1,\n",
    "    \"Sex\": 1,\n",
    "    \"Age\": 9,\n",
    "    \"Weight (lbs)\": 55,\n",
    "    \"Spay/Neuter Status\": 1,\n",
    "    \"Daily Activity Level\": 1,\n",
    "    \"Diet\": 2,\n",
    "    \"Daily Walk Distance (miles)\": 1.5,\n",
    "    \"Other Pets in Household\": 0,\n",
    "    \"Medications\": 1,\n",
    "    \"Seizures\": 0,\n",
    "    \"Hours of Sleep\": 10,\n",
    "    \"Play Time (hrs)\": 1.0,\n",
    "    \"Owner Activity Level\": 1,\n",
    "    \"Annual Vet Visits\": 1,\n",
    "    \"Average Temperature (F)\": 65\n",
    "}\n",
    "\n",
    "cluster_id, recommendations = recommend_care(test_pet)\n",
    "print(f\"Assigned Cluster: {cluster_id}\")\n",
    "print(\"Recommended Care:\")\n",
    "for item in recommendations:\n",
    "    print(\" -\", item)\n"
   ]
  },
  {
   "cell_type": "markdown",
   "id": "add87af3-54bb-431c-aba9-d4d8d6f93033",
   "metadata": {},
   "source": [
    "# SAVE MODEL"
   ]
  },
  {
   "cell_type": "code",
   "execution_count": null,
   "id": "682f7c06-dd3e-4afb-9f7d-23bdb996030d",
   "metadata": {},
   "outputs": [],
   "source": [
    "import joblib\n",
    "\n",
    "# Save the model\n",
    "joblib.dump(kmeans, '../Models/kmeans.pkl')"
   ]
  },
  {
   "cell_type": "code",
   "execution_count": null,
   "id": "8e3318f4-313f-48a1-ada5-d79b7c9a778c",
   "metadata": {},
   "outputs": [],
   "source": [
    "# Save the model\n",
    "joblib.dump(scaler, '../Models/scaler.pkl')"
   ]
  },
  {
   "cell_type": "code",
   "execution_count": null,
   "id": "f27ebf7c-3430-452f-83b8-295e63c78643",
   "metadata": {},
   "outputs": [],
   "source": []
  }
 ],
 "metadata": {
  "kernelspec": {
   "display_name": "Python 3 (ipykernel)",
   "language": "python",
   "name": "python3"
  },
  "language_info": {
   "codemirror_mode": {
    "name": "ipython",
    "version": 3
   },
   "file_extension": ".py",
   "mimetype": "text/x-python",
   "name": "python",
   "nbconvert_exporter": "python",
   "pygments_lexer": "ipython3",
   "version": "3.11.6"
  }
 },
 "nbformat": 4,
 "nbformat_minor": 5
}
