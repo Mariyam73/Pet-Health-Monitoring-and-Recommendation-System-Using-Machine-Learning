{
 "cells": [
  {
   "cell_type": "code",
   "execution_count": null,
   "id": "24bb67ce-2dc7-4e98-876e-9552e8fbcb48",
   "metadata": {},
   "outputs": [],
   "source": [
    "# IMPORTS\n",
    "\n",
    "import pandas as pd\n",
    "import numpy as np\n",
    "from sklearn.preprocessing import LabelEncoder\n",
    "import matplotlib.pyplot as plt\n",
    "import seaborn as sns\n",
    "from sklearn.utils import resample\n",
    "from sklearn.metrics import classification_report, confusion_matrix, ConfusionMatrixDisplay\n",
    "from sklearn.model_selection import train_test_split\n",
    "from sklearn.metrics import accuracy_score, precision_score, recall_score, f1_score\n",
    "from imblearn.over_sampling import SMOTE\n",
    "from sklearn.ensemble import RandomForestClassifier, GradientBoostingClassifier\n",
    "from sklearn.linear_model import LogisticRegression\n",
    "from sklearn.svm import SVC\n",
    "from sklearn.neighbors import KNeighborsClassifier\n"
   ]
  },
  {
   "cell_type": "code",
   "execution_count": null,
   "id": "62570d4c-cc40-4305-8e89-04cd08100aee",
   "metadata": {},
   "outputs": [],
   "source": [
    "df = pd.read_csv('../Data/Dog_Health_Preprocessed.csv', index_col=0)"
   ]
  },
  {
   "cell_type": "markdown",
   "id": "da897814-15fd-4db7-8bc1-93fba0e75ed9",
   "metadata": {},
   "source": [
    "---- SAMPLING OF DATA -----"
   ]
  },
  {
   "cell_type": "code",
   "execution_count": null,
   "id": "2f953198-5fb1-4610-b792-1738f3dd3011",
   "metadata": {},
   "outputs": [],
   "source": [
    "# Separate majority and minority classes\n",
    "df_majority = df[df[\"Healthy\"] == 1]\n",
    "df_minority = df[df[\"Healthy\"] == 0]\n",
    "\n",
    "# Strategy: downsample majority, upsample minority to match the same size (2500 <-> 2500)\n",
    "majority_downsampled = resample(df_majority,\n",
    "                                replace=False,\n",
    "                                n_samples=2500,\n",
    "                                random_state=42)\n",
    "\n",
    "minority_upsampled = resample(df_minority,\n",
    "                              replace=True,\n",
    "                              n_samples=2500,\n",
    "                              random_state=42)\n",
    "\n",
    "# Combine the two to get a balanced dataset\n",
    "df_balanced = pd.concat([majority_downsampled, minority_upsampled])\n",
    "\n",
    "# Shuffle the combined dataset\n",
    "df_balanced = df_balanced.sample(frac=1, random_state=42).reset_index(drop=True)\n",
    "\n",
    "# Verify the new class balance\n",
    "df_balanced[\"Healthy\"].value_counts()"
   ]
  },
  {
   "cell_type": "markdown",
   "id": "a02179de-f5de-4b93-baff-0b557b3ffe26",
   "metadata": {},
   "source": [
    "--- TESTING MODELS ---"
   ]
  },
  {
   "cell_type": "code",
   "execution_count": null,
   "id": "910796db-0988-4df5-889b-3c922c9e8170",
   "metadata": {},
   "outputs": [],
   "source": [
    "# Split data\n",
    "X = df_balanced.drop(columns=[\"Healthy\"])\n",
    "y = df_balanced[\"Healthy\"]\n",
    "X_train, X_test, y_train, y_test = train_test_split(X, y, test_size=0.2, stratify=y, random_state=42)\n",
    "\n",
    "# Models\n",
    "models = {\n",
    "    \"Random Forest\": RandomForestClassifier(random_state=42),\n",
    "    \"Logistic Regression\": LogisticRegression(max_iter=1000, random_state=42),\n",
    "    \"SVM (Linear)\": SVC(kernel=\"linear\", random_state=42),\n",
    "    \"SVM (RBF)\": SVC(kernel=\"rbf\", probability=True, random_state=42),\n",
    "    \"K-Nearest Neighbors\": KNeighborsClassifier(),\n",
    "    \"Gradient Boosting\": GradientBoostingClassifier(random_state=42),\n",
    "}\n",
    "\n",
    "# Train and report for each model\n",
    "results = []\n",
    "for name, model in models.items():\n",
    "    model.fit(X_train, y_train)\n",
    "    y_pred = model.predict(X_test)\n",
    "    \n",
    "    # Confusion Matrix\n",
    "    cm = confusion_matrix(y_test, y_pred)\n",
    "    disp = ConfusionMatrixDisplay(confusion_matrix=cm, display_labels=[\"Not Healthy\", \"Healthy\"])\n",
    "    disp.plot(cmap=\"Blues\")\n",
    "    plt.title(f\"Confusion Matrix: {name}\")\n",
    "    plt.show()\n",
    "\n",
    "    results.append({\n",
    "        \"Model\": name,\n",
    "        \"Accuracy\": accuracy_score(y_test, y_pred),\n",
    "        \"Precision\": precision_score(y_test, y_pred),\n",
    "        \"Recall\": recall_score(y_test, y_pred),\n",
    "        \"F1 Score\": f1_score(y_test, y_pred)\n",
    "    })\n",
    "\n",
    "# Display results\n",
    "results_df = pd.DataFrame(results).sort_values(by=\"F1 Score\", ascending=False).reset_index(drop=True)\n",
    "print(results_df)"
   ]
  },
  {
   "cell_type": "code",
   "execution_count": null,
   "id": "5dd423e6-4849-484b-8a9c-876d1b5c1ef8",
   "metadata": {},
   "outputs": [],
   "source": [
    "# Define a helper to train, evaluate and collect results\n",
    "def evaluate_model(X, y, model, label):\n",
    "    X_train, X_test, y_train, y_test = train_test_split(X, y, test_size=0.2, stratify=y, random_state=42)\n",
    "\n",
    "    model.fit(X_train, y_train)\n",
    "\n",
    "    y_train_pred = model.predict(X_train)\n",
    "    y_test_pred = model.predict(X_test)\n",
    "\n",
    "    return {\n",
    "        \"Model\": label,\n",
    "        \"Train Accuracy\": accuracy_score(y_train, y_train_pred),\n",
    "        \"Test Accuracy\": accuracy_score(y_test, y_test_pred),\n",
    "        \"Train F1\": f1_score(y_train, y_train_pred),\n",
    "        \"Test F1\": f1_score(y_test, y_test_pred)\n",
    "    }\n",
    "\n",
    "# Run for all 3 strategies\n",
    "results = []\n",
    "results.append(evaluate_model(\n",
    "    df_oversampled.drop(columns=[\"Healthy\"]),\n",
    "    df_oversampled[\"Healthy\"],\n",
    "    RandomForestClassifier(random_state=42),\n",
    "    \"Oversampling (RF)\"\n",
    "))\n",
    "\n",
    "results.append(evaluate_model(\n",
    "    df_undersampled.drop(columns=[\"Healthy\"]),\n",
    "    df_undersampled[\"Healthy\"],\n",
    "    GradientBoostingClassifier(random_state=42),\n",
    "    \"Undersampling (GB)\"\n",
    "))\n",
    "\n",
    "results.append(evaluate_model(\n",
    "    df_balanced.drop(columns=[\"Healthy\"]),\n",
    "    df_balanced[\"Healthy\"],\n",
    "    RandomForestClassifier(random_state=42),\n",
    "    \"Mixed (RF)\"\n",
    "))\n",
    "\n",
    "# Display results as DataFrame\n",
    "results_df = pd.DataFrame(results)\n",
    "print(results_df)"
   ]
  },
  {
   "cell_type": "markdown",
   "id": "0926a080-368a-47d3-933d-042468053632",
   "metadata": {},
   "source": [
    "# --- RANDOM FOREST MODEL FITTING --"
   ]
  },
  {
   "cell_type": "code",
   "execution_count": null,
   "id": "65992119-9ed5-4188-a22f-ea9bd6c26339",
   "metadata": {},
   "outputs": [],
   "source": [
    "# Split data\n",
    "X = df_balanced.drop(columns=[\"Healthy\"])\n",
    "y = df_balanced[\"Healthy\"]\n",
    "X_train, X_test, y_train, y_test = train_test_split(X, y, test_size=0.2, stratify=y, random_state=42)\n",
    "\n",
    "# Train model\n",
    "model = RandomForestClassifier(random_state=42)\n",
    "model.fit(X_train, y_train)\n",
    "\n",
    "# Evaluate\n",
    "y_pred = model.predict(X_test)\n",
    "print(\"Classification Report:\\n\")\n",
    "print(classification_report(y_test, y_pred, target_names=[\"Not Healthy\", \"Healthy\"]))\n",
    "\n",
    "ConfusionMatrixDisplay(confusion_matrix(y_test, y_pred), display_labels=[\"Not Healthy\", \"Healthy\"]).plot(cmap=\"Blues\")\n",
    "plt.title(\"Confusion Matrix\")\n",
    "plt.show()"
   ]
  },
  {
   "cell_type": "code",
   "execution_count": null,
   "id": "92a9fe6a-f11f-42b2-90ec-573651552ecb",
   "metadata": {},
   "outputs": [],
   "source": [
    "import joblib\n",
    "\n",
    "# Save the model\n",
    "joblib.dump(model, '../Models/rf_model.pkl')"
   ]
  }
 ],
 "metadata": {
  "kernelspec": {
   "display_name": "Python 3 (ipykernel)",
   "language": "python",
   "name": "python3"
  },
  "language_info": {
   "codemirror_mode": {
    "name": "ipython",
    "version": 3
   },
   "file_extension": ".py",
   "mimetype": "text/x-python",
   "name": "python",
   "nbconvert_exporter": "python",
   "pygments_lexer": "ipython3",
   "version": "3.11.6"
  }
 },
 "nbformat": 4,
 "nbformat_minor": 5
}
